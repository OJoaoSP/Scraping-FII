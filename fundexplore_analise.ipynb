{
  "cells": [
    {
      "cell_type": "markdown",
      "metadata": {
        "id": "view-in-github",
        "colab_type": "text"
      },
      "source": [
        "<a href=\"https://colab.research.google.com/github/OJoaoSP/Scraping-FII/blob/main/fundexplore_analise.ipynb\" target=\"_parent\"><img src=\"https://colab.research.google.com/assets/colab-badge.svg\" alt=\"Open In Colab\"/></a>"
      ]
    },
    {
      "cell_type": "markdown",
      "metadata": {
        "id": "jfZaZBgHfTV5"
      },
      "source": [
        "# ETL - Scraping"
      ]
    },
    {
      "cell_type": "markdown",
      "metadata": {
        "id": "N158WyDcDv2g"
      },
      "source": [
        "## Import de biblioteca e lendo a página "
      ]
    },
    {
      "cell_type": "code",
      "execution_count": null,
      "metadata": {
        "id": "pxfjp5hT7wtv"
      },
      "outputs": [],
      "source": [
        "import pandas as pd\n",
        "import html5lib\n",
        "import numpy as np\n",
        "import matplotlib.pyplot as plt\n",
        "import seaborn as sns\n",
        "import requests\n",
        "from urllib.request import Request, urlopen\n",
        "from urllib.error import URLError, HTTPError\n",
        "from bs4 import BeautifulSoup\n",
        "%matplotlib inline\n",
        "import time"
      ]
    },
    {
      "cell_type": "code",
      "execution_count": null,
      "metadata": {
        "id": "eB2si3q2Lo2x"
      },
      "outputs": [],
      "source": [
        "url = \"https://www.fundsexplorer.com.br/ranking\"\n",
        "\n",
        "#Informações para fingir ser um navegador\n",
        "header = {\n",
        "  \"User-Agent\": \"Mozilla/5.0 (X11; Linux x86_64) AppleWebKit/537.36 (KHTML, like Gecko) Chrome/50.0.2661.75 Safari/537.36\",\n",
        "  \"X-Requested-With\": \"XMLHttpRequest\"\n",
        "}\n",
        "#juntamos tudo com a requests\n",
        "r = requests.get(url, headers=header)\n",
        "df = pd.read_html(r.text)\n",
        "dados = pd.DataFrame(df[0])\n"
      ]
    },
    {
      "cell_type": "markdown",
      "metadata": {
        "id": "GNB8GcGvDmkO"
      },
      "source": [
        "\n",
        "\n",
        "## Tirando dados que nem não tem valor e refazendo os index"
      ]
    },
    {
      "cell_type": "code",
      "execution_count": null,
      "metadata": {
        "id": "Ldv0PiqJAL4U"
      },
      "outputs": [],
      "source": [
        "selec = dados['Preço Atual'].notna()\n",
        "dados_com_preco = dados[selec]\n",
        "dados_com_preco.index = range(dados_com_preco.shape[0])"
      ]
    },
    {
      "cell_type": "markdown",
      "metadata": {
        "id": "znvmQowbHrU0"
      },
      "source": [
        "##transformando em float\n"
      ]
    },
    {
      "cell_type": "code",
      "execution_count": null,
      "metadata": {
        "id": "o2cbtonXk5cm"
      },
      "outputs": [],
      "source": [
        "def alter_tipe_para_float(coluna, tipe):\n",
        "  if tipe == 1:\n",
        "    for indice in range(0, dados_com_preco.shape[0]):\n",
        "      dados_com_preco[coluna][indice] = dados_com_preco[coluna][indice].split()[1]\n",
        "      dados_com_preco[coluna][indice] = dados_com_preco[coluna][indice].replace(',','.')\n",
        "      if dados_com_preco[coluna][indice].count('.') >= 2:\n",
        "        dados_com_preco[coluna][indice] = dados_com_preco[coluna][indice].replace('.','')\n",
        "        dados_com_preco[coluna][indice] = float(dados_com_preco[coluna][indice]) /100\n",
        "      dados_com_preco[coluna][indice] = float(dados_com_preco[coluna][indice])\n",
        "      \n",
        "  elif tipe == 2:\n",
        "    for indice in range(0, dados_com_preco.shape[0]):\n",
        "      if type(dados_com_preco[coluna][indice]) == str:\n",
        "        dados_com_preco[coluna][indice] = float(dados_com_preco[coluna][indice].replace('%','').replace(',','.'))\n",
        "  dados_com_preco[coluna] = dados_com_preco[coluna].astype(float)"
      ]
    },
    {
      "cell_type": "markdown",
      "metadata": {
        "id": "QBdvzGSddkwI"
      },
      "source": [
        "### chamando a função"
      ]
    },
    {
      "cell_type": "code",
      "execution_count": null,
      "metadata": {
        "collapsed": true,
        "id": "SmfbriXHIiRJ"
      },
      "outputs": [],
      "source": [
        "alter_tipe_para_float('Preço Atual', 1)\n",
        "alter_tipe_para_float('Dividendo', 1)\n",
        "alter_tipe_para_float('PatrimônioLíq.', 1)\n",
        "alter_tipe_para_float('VPA',1)\n",
        "alter_tipe_para_float('DividendYield', 2)\n",
        "alter_tipe_para_float('DY (3M)Acumulado', 2)\n",
        "alter_tipe_para_float('DY (6M)Acumulado', 2)\n",
        "alter_tipe_para_float('DY (12M)Acumulado', 2)\n",
        "alter_tipe_para_float('DY (3M)Média', 2)\n",
        "alter_tipe_para_float('DY (6M)Média', 2)\n",
        "alter_tipe_para_float('DY (12M)Média', 2)\n",
        "alter_tipe_para_float('DY Ano', 2)\n",
        "alter_tipe_para_float('Variação Preço', 2)\n",
        "alter_tipe_para_float('Rentab.Período', 2)\n",
        "alter_tipe_para_float('VacânciaFísica', 2)\n",
        "alter_tipe_para_float('VacânciaFinanceira', 2)"
      ]
    },
    {
      "cell_type": "markdown",
      "metadata": {
        "id": "MN3_zjyChENb"
      },
      "source": [
        "## Ajustar setores "
      ]
    },
    {
      "cell_type": "code",
      "execution_count": null,
      "metadata": {
        "id": "sSZ22dJKhwry"
      },
      "outputs": [],
      "source": [
        "def creat_soup_fii(codigo):\n",
        "  url = 'https://fiis.com.br/' + codigo\n",
        "  header = {\n",
        "      \"User-Agent\": \"Mozilla/5.0 (X11; Linux x86_64) AppleWebKit/537.36 (KHTML, like Gecko) Chrome/50.0.2661.75 Safari/537.36\",\n",
        "      \"X-Requested-With\": \"XMLHttpRequest\"\n",
        "    }\n",
        "  resq = Request(url, headers = header, )\n",
        "  response = urlopen(resq)\n",
        "  html = response.read()\n",
        "\n",
        "  def trata_html(input):\n",
        "    input = input.decode('UTF-8')\n",
        "    return \" \".join(input.split()).replace('> <', '><')\n",
        "\n",
        "  html = trata_html(html)\n",
        "  base_soup = BeautifulSoup(html, 'html5lib')\n",
        "  return base_soup"
      ]
    },
    {
      "cell_type": "code",
      "source": [
        "def creat_soup_explor(codigo):\n",
        "  url = 'https://www.fundsexplorer.com.br/funds/' + codigo\n",
        "  header = {\n",
        "      \"User-Agent\": \"Mozilla/5.0 (X11; Linux x86_64) AppleWebKit/537.36 (KHTML, like Gecko) Chrome/50.0.2661.75 Safari/537.36\",\n",
        "      \"X-Requested-With\": \"XMLHttpRequest\"\n",
        "    }\n",
        "  resq = Request(url, headers = header, )\n",
        "  response = urlopen(resq)\n",
        "  html = response.read()\n",
        "\n",
        "  def trata_html(input):\n",
        "    input = input.decode('UTF-8')\n",
        "    return \" \".join(input.split()).replace('> <', '><')\n",
        "\n",
        "  html = trata_html(html)\n",
        "  base_soup_expo = BeautifulSoup(html, 'html5lib')\n",
        "  return base_soup_expo"
      ],
      "metadata": {
        "id": "n3Am2Vvmul46"
      },
      "execution_count": null,
      "outputs": []
    },
    {
      "cell_type": "code",
      "execution_count": null,
      "metadata": {
        "id": "OOPaE995hCgb"
      },
      "outputs": [],
      "source": [
        "def fii_data(tick):\n",
        "  try:\n",
        "    # base\n",
        "    soup_fii = creat_soup_fii(tick)\n",
        "    Subtipo = 0\n",
        "    Tipo = 0\n",
        "    # tipo fii\n",
        "    try:\n",
        "      type_fii = soup_fii.find_all('span', {'class':'value'})[4].get_text().split(':')\n",
        "\n",
        "      Tipo = type_fii[0]\n",
        "      Subtipo = type_fii[1].split()[0]\n",
        "    except:\n",
        "      print(1)\n",
        "    # Valor do dia \n",
        "    try:\n",
        "      valor_text = soup_fii.find_all('div', {'class': \"item quotation\"})[0].find_all('span', {'class' : \"value\"})[0].get_text()\n",
        "      valor_text = valor_text.replace(',', '.')\n",
        "      if valor_text.count('.') > 1: \n",
        "        valor_text = valor_text.replace('.', '', 1)\n",
        "        valor = float(valor_text)\n",
        "      else:\n",
        "        valor = float(valor_text)\n",
        "    except IndexError as erro:\n",
        "      print(erro)\n",
        "      print(tick)\n",
        "      valor = -1\n",
        "    # ult pagamento\n",
        "    try:\n",
        "      ult = []\n",
        "      for u in range(4,7):\n",
        "        ult.append(soup_fii.find_all('td')[u].get_text())\n",
        "      ult_data_base = ult[0]\n",
        "    except IndexError:\n",
        "      ult_data_base = 0\n",
        "\n",
        "\n",
        "    return(Tipo, Subtipo, valor, ult_data_base)\n",
        "  except HTTPError as erro:\n",
        "    print(erro)\n",
        "    print(tick)\n",
        "    return (0, 0, 0, 0)\n"
      ]
    },
    {
      "cell_type": "code",
      "source": [
        "def expo(tick):\n",
        "  soup_expo = creat_soup_explor(tick)\n",
        "  scripts = soup_expo.find_all('script')\n",
        "  print(tick)\n",
        "  # posição 21 é os labels dos meses\n",
        "  # posição 24 é posição dos dividendos\n",
        "  dividendos_transição = scripts[0].get_text().split()[24]\n",
        "  dividendos_mes = scripts[0].get_text().split()[21]\n",
        "\n",
        "  # Criando a lista com os meses/ano que foi recebido o dividendo\n",
        "  meses = dividendos_mes.split(':')[1]\n",
        "  meses = meses.replace('[','').replace(']','').replace('\"', '').split(',')\n",
        "  meses.pop(-1)\n",
        "  # pra deixar somente os ultimos 24 meses\n",
        "  while len(meses) > 24:\n",
        "    meses.pop(0)\n",
        "\n",
        "  # Criando uma lista com os dividendos\n",
        "  dividendos = dividendos_transição.split(':')[3]\n",
        "  dividendos = dividendos.replace('[','').replace(']','').split(',')\n",
        "  dividendos.pop(-1)\n",
        "  while len(dividendos) > 24:\n",
        "    dividendos.pop(0)\n",
        "\n",
        "  #Div Yield\n",
        "  div_yield =  scripts[1].get_text().split()[25].split(':')[1].replace('[','').replace(']','').replace('\"', '').split(',')\n",
        "  div_yield.pop(-1)\n",
        "  while len(div_yield) > 24:\n",
        "    div_yield.pop(0)\n",
        "  while len(meses) > len(div_yield):\n",
        "    div_yield.insert(0, '0.0')\n",
        "\n",
        "  try:\n",
        "    estado = scripts[3].get_text().split()[21].split(':')[1].replace('[','').replace(']','').replace('\"', '').split(',')\n",
        "    estado.pop()\n",
        "    info = scripts[3].get_text().split()[21].split(':')[3].replace('[','').replace(']','').replace('\"', '').split(',')\n",
        "    info.pop()\n",
        "  except:\n",
        "    estado = 0\n",
        "    info = 0\n",
        "  return (meses, dividendos, div_yield, estado, info)"
      ],
      "metadata": {
        "id": "zoD7zzTcs71f"
      },
      "execution_count": null,
      "outputs": []
    },
    {
      "cell_type": "markdown",
      "source": [
        "### teste para pegar ult pagamento\n"
      ],
      "metadata": {
        "id": "YcDYa4ZJcunz"
      }
    },
    {
      "cell_type": "code",
      "source": [
        "dados_com_preco = dados_com_preco.drop(columns=['Setor', 'Preço Atual'])"
      ],
      "metadata": {
        "id": "NsXU2xxliHPu"
      },
      "execution_count": null,
      "outputs": []
    },
    {
      "cell_type": "code",
      "execution_count": null,
      "metadata": {
        "id": "LSrSlSSckZXr"
      },
      "outputs": [],
      "source": [
        "%%time\n",
        "\n",
        "Setor = []\n",
        "Sub_setor =[]\n",
        "valor_dia = []\n",
        "ult_base = []\n",
        "est = []\n",
        "inf = []\n",
        "\n",
        "labels_div = []\n",
        "dividendos_24 = []\n",
        "div_y = []\n",
        "for tick  in dados_com_preco['Códigodo fundo']:\n",
        "\n",
        "  time.sleep(0.5)\n",
        "  Tipo, Subtipo, valor, u_base= fii_data(tick)\n",
        "  label, div, y, e, i = expo(tick)\n",
        "\n",
        "  Setor.append(Tipo)\n",
        "  Sub_setor.append(Subtipo)\n",
        "  valor_dia.append(valor)\n",
        "  ult_base.append(u_base)\n",
        "\n",
        "  labels_div.append(label)\n",
        "  dividendos_24.append(div)\n",
        "  div_y.append(y)  \n",
        "\n",
        "  est.append(e)\n",
        "  inf.append(i)\n",
        "\n",
        "# data = {'Setor': Setor, 'Sub Setor': Sub_setor, 'Valor hoje': valor_dia, 'ult base':ult_base}\n",
        "# df = pd.DataFrame.from_dict(data)"
      ]
    },
    {
      "cell_type": "code",
      "execution_count": null,
      "metadata": {
        "id": "73uyqWQQN0nu"
      },
      "outputs": [],
      "source": [
        "# dados_com_preco = dados_com_preco.append(df)\n",
        "dados_1 = dados_com_preco.copy()\n",
        "dados_1.insert(1, 'Setor', Setor)\n",
        "dados_1.insert(2, 'Sub-Setor', Sub_setor)\n",
        "dados_1.insert(3, 'Valor', valor_dia)\n",
        "dados_1.insert(4, 'Ult. Dia Base', ult_base)\n",
        "dados_1.insert(24, 'Estados', est)\n",
        "dados_1.insert(25,'Metragem', inf)\n",
        "dados_1.insert(28, 'Labels', labels_div)\n",
        "dados_1.insert(29, '$Div', dividendos_24 )\n",
        "dados_1.insert(30, '%Div', div_y )\n",
        "# tirando fundos que não existem mais\n",
        "dados_1 = dados_1.drop(dados_1.query('Setor == 0').index)"
      ]
    },
    {
      "cell_type": "code",
      "execution_count": null,
      "metadata": {
        "id": "P-ciyVAxgbPm"
      },
      "outputs": [],
      "source": [
        "dados_1.index = range(dados_1.shape[0])"
      ]
    },
    {
      "cell_type": "markdown",
      "metadata": {
        "id": "Ut8FTP4PcQms"
      },
      "source": [
        "##Limpeza e ajustes\n"
      ]
    },
    {
      "cell_type": "code",
      "execution_count": null,
      "metadata": {
        "id": "RDeukCd-Eqbo"
      },
      "outputs": [],
      "source": [
        "# Ajustando os Híbridos\n",
        "selec =  dados_1[\"Setor\"] == 'Híbrido (Tijolo/Papel)'\n",
        "indice = dados_1[selec].index\n",
        "dados_1.loc[indice, \"Setor\"]= 'Híbrido'\n",
        "dados_1.loc[indice, \"Sub-Setor\"]= 'Tijolo/Papel'\n",
        "\n",
        "#Ajustando Indefinidos\n",
        "selec =  dados_1[\"Setor\"] == 'Indefinido'\n",
        "indice = dados_1[selec].index\n",
        "dados_1.loc[indice, \"Setor\"]= 'Outros'\n",
        "dados_1.loc[indice, \"Sub-Setor\"]= 'Outros'\n",
        "\n",
        "#Ajuste FIAGRO\n",
        "selec =  dados_1[\"Setor\"] == 'FIAGRO'\n",
        "indice = dados_1[selec].index\n",
        "dados_1.loc[indice, \"Setor\"]= 'Fiagro'\n",
        "dados_1.loc[indice, \"Sub-Setor\"]= 'Fiagro'"
      ]
    },
    {
      "cell_type": "markdown",
      "source": [
        "## Dados Bi"
      ],
      "metadata": {
        "id": "Ef-cwaUYcLng"
      }
    },
    {
      "cell_type": "code",
      "source": [
        "div = dados_1[[\"Códigodo fundo\", 'Labels', '$Div', '%Div']]\n",
        "t = []\n",
        "err = []\n",
        "for i in range(div.shape[0]):\n",
        "  \n",
        "  for c in range(len(div[\"Labels\"][i])):\n",
        "    \n",
        "    try:\n",
        "      t.append(div['Códigodo fundo'][i] + ';'  + div[\"Labels\"][i][c] + ';'  + div[\"$Div\"][i][c] + ';'  + div[\"%Div\"][i][c] )\n",
        "    except IndexError:\n",
        "      err.append([div['Códigodo fundo'][i], len(div[\"%Div\"][i]), len(div[\"$Div\"][i])])\n",
        "      t.append(div['Códigodo fundo'][i] + ';'  +div[\"Labels\"][i][c] + ';'  + div[\"$Div\"][i][c] + ';'  + \"-1\")"
      ],
      "metadata": {
        "id": "ygGI80hYcLUy"
      },
      "execution_count": null,
      "outputs": []
    },
    {
      "cell_type": "code",
      "source": [
        "bi = pd.DataFrame({'all' : t})"
      ],
      "metadata": {
        "id": "GDxZ2ihUcXAR"
      },
      "execution_count": null,
      "outputs": []
    },
    {
      "cell_type": "code",
      "source": [
        "bi[['Código', 'Mês', '$div', '%div']] = bi['all'].str.split(';', expand=True)"
      ],
      "metadata": {
        "id": "UX-Jc-X5f5hL"
      },
      "execution_count": null,
      "outputs": []
    },
    {
      "cell_type": "markdown",
      "metadata": {
        "id": "j3f-wVsrsv5O"
      },
      "source": [
        "## Mandando pro Execel para BI\n"
      ]
    },
    {
      "cell_type": "code",
      "execution_count": null,
      "metadata": {
        "id": "nwnhL6UWs14s"
      },
      "outputs": [],
      "source": [
        "dados_1.to_csv('out.csv', index = False, sep= ';')"
      ]
    },
    {
      "cell_type": "code",
      "source": [
        "bi.to_csv('raw.csv', index = False, sep = ';')"
      ],
      "metadata": {
        "id": "IgmTQ87kzywW"
      },
      "execution_count": null,
      "outputs": []
    },
    {
      "cell_type": "markdown",
      "metadata": {
        "id": "SMeOvfwW842w"
      },
      "source": [
        "# Analise e Visualização de dados"
      ]
    },
    {
      "cell_type": "markdown",
      "metadata": {
        "id": "MB9ntKg9Bsn7"
      },
      "source": [
        "## Plot de dados"
      ]
    },
    {
      "cell_type": "markdown",
      "metadata": {
        "id": "ibs9lDhTiIfC"
      },
      "source": [
        "### ESCOLHA AS INFORMAÇÔES"
      ]
    },
    {
      "cell_type": "code",
      "execution_count": null,
      "metadata": {
        "colab": {
          "background_save": true
        },
        "id": "hmCCbHWUFYmE"
      },
      "outputs": [],
      "source": [
        "#  'DY (12M)Média'  /  'DY (6M)Média'  / 'DY (3M)Média'\n",
        "#ordenador = 'DY (6M)Média'\n",
        "#preco = 100"
      ]
    },
    {
      "cell_type": "markdown",
      "metadata": {
        "id": "v-kJH8L9ak9X"
      },
      "source": [
        "### Plot de todos os Setores"
      ]
    },
    {
      "cell_type": "code",
      "execution_count": null,
      "metadata": {
        "colab": {
          "background_save": true
        },
        "id": "eW-QFJ-Zt9ur"
      },
      "outputs": [],
      "source": [
        "# for setor in dados_1['Setor'].unique():\n",
        "#   selecao = (dados_1['Valor'] < preco ) & (dados_1['Setor'] == setor)\n",
        "#   super_dados = dados_1[selecao].sort_values( ordenador , ascending= False)\n",
        "\n",
        "\n",
        "#   fig = plt.figure(figsize= (14,4))\n",
        " \n",
        "\n",
        "#   eixo1 = fig.add_axes([0,0,1,1])\n",
        "#   eixo1.grid(True)\n",
        "\n",
        "\n",
        "\n",
        "#   sns.barplot(x = ordenador, y = 'Códigodo fundo', data = super_dados[0:10], tick_label = True)\n",
        "#   num = -4\n",
        "\n",
        "\n",
        "\n",
        "#   #Colocando rotolo\n",
        "#   for p in eixo1.patches:\n",
        "    \n",
        "#     height = p.get_height() + 0.3 + num\n",
        "#     eixo1.text(p.get_x()+p.get_width() -0.03,\n",
        "#     height + 3,\n",
        "#     '{:1.2f}'.format((p.get_width())),\n",
        "#     ha='center',\n",
        "#     color = 'w',\n",
        "#     size = 14)\n",
        "#     num += 1\n",
        "\n",
        "#   eixo1.set_ylabel('')\n",
        "#   eixo1.set_xlabel(ordenador ,fontsize = 20)\n",
        "#   plt.title(f'Setor: {setor}')\n"
      ]
    },
    {
      "cell_type": "markdown",
      "metadata": {
        "id": "7l16w6dpfAiE"
      },
      "source": [
        "### Gráfico com sub setor escolhido"
      ]
    },
    {
      "cell_type": "code",
      "execution_count": null,
      "metadata": {
        "id": "V22e2jJRauXE"
      },
      "outputs": [],
      "source": [
        "# # ['Tijolo' 'Híbrido' 'Papel' 'Outros' 'Fiagro']\n",
        "# Setor = 'Tijolo'\n",
        "# selecao = dados_1['Setor'] == Setor\n",
        "# sub = dados_1[selecao]['Sub-Setor'].unique()\n",
        "\n",
        "# ordenador = 'DY (3M)Média'\n",
        "# preco = 50"
      ]
    },
    {
      "cell_type": "code",
      "execution_count": null,
      "metadata": {
        "id": "1XT9NceNzyPd"
      },
      "outputs": [],
      "source": [
        "# for sub_setor in sub:\n",
        "#   selecao = (dados_1['Valor'] < preco ) & (dados_1['Sub-Setor'] == sub_setor) \n",
        "#   super_dados = dados_1[selecao].sort_values( ordenador , ascending= False)\n",
        "\n",
        "\n",
        "#   fig = plt.figure(figsize= (14,4))\n",
        "\n",
        "\n",
        "#   eixo1 = fig.add_axes([0,0,1,1])\n",
        "#   eixo1.grid(True)\n",
        "\n",
        "\n",
        "#   try:\n",
        "#     sns.barplot(x = ordenador, y = 'Códigodo fundo', data = super_dados[0:10], tick_label = True)\n",
        "#     num = -4\n",
        "#   except ValueError as err: \n",
        "#     print(err)\n",
        "\n",
        "\n",
        "\n",
        "\n",
        "#   #Colocando rotolo\n",
        "#   for p in eixo1.patches:\n",
        "    \n",
        "#     height = p.get_height() + 0.3 + num\n",
        "#     eixo1.text(p.get_x()+p.get_width() -0.03,\n",
        "#     height + 3,\n",
        "#     '{:1.2f}'.format((p.get_width())),\n",
        "#     ha='center',\n",
        "#     color = 'w',\n",
        "#     size = 14)\n",
        "#     num += 1\n",
        "\n",
        "#   eixo1.set_ylabel('')\n",
        "#   eixo1.set_xlabel(ordenador ,fontsize = 20)\n",
        "#   plt.title(f'sub Setor: {sub_setor}')\n",
        "#   plt.show()\n",
        "#   print('\\n')\n"
      ]
    },
    {
      "cell_type": "code",
      "execution_count": null,
      "metadata": {
        "id": "DXJFmQrsklVK"
      },
      "outputs": [],
      "source": [
        ""
      ]
    }
  ],
  "metadata": {
    "colab": {
      "collapsed_sections": [
        "Ut8FTP4PcQms",
        "j3f-wVsrsv5O"
      ],
      "name": "fundexplore-analise.ipynb",
      "provenance": [],
      "authorship_tag": "ABX9TyOzW/td8X8+qCZWchs8Hg3R",
      "include_colab_link": true
    },
    "kernelspec": {
      "display_name": "Python 3",
      "name": "python3"
    }
  },
  "nbformat": 4,
  "nbformat_minor": 0
}